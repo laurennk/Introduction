{
 "cells": [
  {
   "cell_type": "markdown",
   "metadata": {
    "pycharm": {
     "name": "#%% md\n"
    }
   },
   "source": [
    "## An Introduction to mathematical modeling and Python "
   ]
  },
  {
   "cell_type": "markdown",
   "metadata": {
    "pycharm": {
     "name": "#%% md\n"
    }
   },
   "source": [
    "In this class, we will do our coding in Python. This is a coding language that has a lot of advantages. First, it has a relatively easy learning curve. If you've done coding before, you should catch on quickly. If not, it is an intuitive language. Second, it is *open-source*. This means that the entire coding language is freely accessible for anyone. That means you can use it on any machine without any cost. It also means that people can develop code for it and share their code with others. Python makes it extremely easy to *import* the code written by others. Third, because code is being constantly developed and shared, it is quite easy to start writing powerful code since we can take advantage of the wonderful programs written by others!\n",
    "\n",
    "The document you are looking at now is called a Jupyter Notebook. This is a fourth great advantage of Python. We can mix text and code in this document, explaining steps as we go along. At any point, you can edit the code you see and press Shift + Enter to evaluate it and see how your new code changes the result. \n",
    "\n",
    "To get started, click on the cell (the rectangular box) below press Shift + Enter to evaluate its content (run the code).\n",
    "\n",
    "Try playing around with different numbers below."
   ]
  },
  {
   "cell_type": "code",
   "execution_count": 3,
   "metadata": {
    "pycharm": {
     "name": "#%%\n"
    }
   },
   "outputs": [
    {
     "data": {
      "text/plain": [
       "18"
      ]
     },
     "execution_count": 3,
     "metadata": {},
     "output_type": "execute_result"
    }
   ],
   "source": [
    "3 + 5*3"
   ]
  },
  {
   "cell_type": "markdown",
   "metadata": {
    "pycharm": {
     "name": "#%% md\n"
    }
   },
   "source": [
    "Try changing the code in the box above to calculate other simple things. Remember to press Shift + Enter to evaluate your new code! We can easily use Python as a calculator in this way.\n",
    "\n",
    "Remember how we said we wanted to use code written by others? One of the most popular sets of code is called numpy (numerical Python). This is a package that includes a *ton* of useful math functions. Getting access to this great code is as simple as requesting Python import it! Press Shift + Enter on the box below:"
   ]
  },
  {
   "cell_type": "code",
   "execution_count": 4,
   "metadata": {
    "pycharm": {
     "name": "#%%\n"
    }
   },
   "outputs": [
    {
     "ename": "ModuleNotFoundError",
     "evalue": "No module named 'numpy'",
     "output_type": "error",
     "traceback": [
      "\u001b[0;31m---------------------------------------------------------------------------\u001b[0m",
      "\u001b[0;31mModuleNotFoundError\u001b[0m                       Traceback (most recent call last)",
      "\u001b[1;32m/workspace/Introduction/Intro to ML and Python completed.ipynb Cell 5\u001b[0m in \u001b[0;36m<cell line: 1>\u001b[0;34m()\u001b[0m\n\u001b[0;32m----> <a href='vscode-notebook-cell://uwstemsubml-introductio-7bo33vflqj3.ws-us53.gitpod.io/workspace/Introduction/Intro%20to%20ML%20and%20Python%20completed.ipynb#ch0000004vscode-remote?line=0'>1</a>\u001b[0m \u001b[39mimport\u001b[39;00m \u001b[39mnumpy\u001b[39;00m \u001b[39mas\u001b[39;00m \u001b[39mnp\u001b[39;00m\n",
      "\u001b[0;31mModuleNotFoundError\u001b[0m: No module named 'numpy'"
     ]
    }
   ],
   "source": [
    "import numpy as np"
   ]
  },
  {
   "cell_type": "markdown",
   "metadata": {
    "pycharm": {
     "name": "#%% md\n"
    }
   },
   "source": [
    "Importing 'as' np means that we can use the pieces of code in this big library of code simply by typing 'np' first. "
   ]
  },
  {
   "cell_type": "markdown",
   "metadata": {
    "pycharm": {
     "name": "#%% md\n"
    }
   },
   "source": [
    "Now we can make use of numpy functions. All numpy code begins with np.y where y is the name of the function you want to use. For example, press Shift + Enter on the below block. Discuss with your group what this code is doing."
   ]
  },
  {
   "cell_type": "code",
   "execution_count": 2,
   "metadata": {
    "pycharm": {
     "name": "#%%\n"
    }
   },
   "outputs": [
    {
     "ename": "NameError",
     "evalue": "name 'np' is not defined",
     "output_type": "error",
     "traceback": [
      "\u001b[0;31m---------------------------------------------------------------------------\u001b[0m",
      "\u001b[0;31mNameError\u001b[0m                                 Traceback (most recent call last)",
      "\u001b[1;32m/workspace/Introduction/Intro to ML and Python completed.ipynb Cell 8\u001b[0m in \u001b[0;36m<cell line: 1>\u001b[0;34m()\u001b[0m\n\u001b[0;32m----> <a href='vscode-notebook-cell://uwstemsubml-introductio-7bo33vflqj3.ws-us53.gitpod.io/workspace/Introduction/Intro%20to%20ML%20and%20Python%20completed.ipynb#ch0000007vscode-remote?line=0'>1</a>\u001b[0m np\u001b[39m.\u001b[39mexp(\u001b[39m1\u001b[39m)\n",
      "\u001b[0;31mNameError\u001b[0m: name 'np' is not defined"
     ]
    }
   ],
   "source": [
    "np.exp(1)"
   ]
  },
  {
   "cell_type": "markdown",
   "metadata": {
    "pycharm": {
     "name": "#%% md\n"
    }
   },
   "source": [
    "What did you come up with? Hopefully, you found that this is calculating $e^1$ - that is, np.exp calculates e to a given power, where we specify what power we want by the number in the parentheses."
   ]
  },
  {
   "cell_type": "markdown",
   "metadata": {
    "pycharm": {
     "name": "#%% md\n"
    }
   },
   "source": [
    "We are going to use Python and numpy to obtain the results from the math worksheet in a computer. You will hopefully start to get a feel for how useful it is to outsource math to a machine!\n",
    "\n",
    "We can break down the first problem in the math worksheet, using the Pythagorean Theorem, into simply a series of four calculator evaluations - $a^2$, $b^2$, adding $a^2 + b^2$, and taking the square root ($a$ and $b$ are just numbers). Complete each one in the cells below. Remember to press Shift + Enter to evaluate them. If a function doesn't seem to work, try putting \"np.\" in front of it. Many of the mathematical functions you expect are included in numpy but not basic Python. Finally, the exponent in Python is defined by **."
   ]
  },
  {
   "cell_type": "code",
   "execution_count": 5,
   "metadata": {
    "pycharm": {
     "name": "#%%\n"
    }
   },
   "outputs": [],
   "source": [
    "a_squared = 3**2       #Calculates a^2"
   ]
  },
  {
   "cell_type": "code",
   "execution_count": 6,
   "metadata": {
    "pycharm": {
     "name": "#%%\n"
    }
   },
   "outputs": [],
   "source": [
    "b_squared = 4**2      #Calculates b^2"
   ]
  },
  {
   "cell_type": "code",
   "execution_count": 7,
   "metadata": {
    "pycharm": {
     "name": "#%%\n"
    }
   },
   "outputs": [],
   "source": [
    "add_together = a_squared + b_squared     #Calculates a^2 + b^2"
   ]
  },
  {
   "cell_type": "code",
   "execution_count": 8,
   "metadata": {
    "pycharm": {
     "name": "#%%\n"
    }
   },
   "outputs": [
    {
     "data": {
      "text/plain": [
       "5.0"
      ]
     },
     "execution_count": 8,
     "metadata": {},
     "output_type": "execute_result"
    }
   ],
   "source": [
    "c = np.sqrt(add_together)     #Takes square root of (a^2 + b^2)\n",
    "c   #Prints the value"
   ]
  },
  {
   "cell_type": "markdown",
   "metadata": {
    "pycharm": {
     "name": "#%% md\n"
    }
   },
   "source": [
    "Mathematical models take the form of *functions*. Functions can be created in Python several different ways. One way is to use the following to define a function:\n",
    "\n",
    "The following line creates (using *def*) the function \"Area_Of_Square\" which takes in one input: length, and returns one output, the total area of a square. \n",
    "\n",
    "In Machine Learning, the input is called *input data* and the output is called the *target variable*."
   ]
  },
  {
   "cell_type": "code",
   "execution_count": 9,
   "metadata": {
    "pycharm": {
     "name": "#%%\n"
    }
   },
   "outputs": [],
   "source": [
    "def area_of_square(length):\n",
    "    return length*length"
   ]
  },
  {
   "cell_type": "markdown",
   "metadata": {
    "pycharm": {
     "name": "#%% md\n"
    }
   },
   "source": [
    "We can now use the function \"Area_Of_Square\" to find the area of a square (the target variable) from the length of one side (the input data)."
   ]
  },
  {
   "cell_type": "markdown",
   "metadata": {
    "pycharm": {
     "name": "#%% md\n"
    }
   },
   "source": [
    "So, we are defining in code the function $\\text{area of square} = \\text{length*length}$, where $\\text{Area_Of_Square}$ is the name of our function and our output, and $\\text{length}$ is our input variable. Note that when we run this code, there isn't an output - that's okay! We have *defined* a function, but we haven't tried to *evaluate* it yet - that's when we expect an output.\n",
    "\n",
    "To evaluate the function, we will call its name and give it an input. The function will return the output.\n",
    "\n",
    "So, if we want to calculate the area of a square with sides of length 3, we use:"
   ]
  },
  {
   "cell_type": "code",
   "execution_count": 10,
   "metadata": {
    "pycharm": {
     "name": "#%%\n"
    }
   },
   "outputs": [
    {
     "data": {
      "text/plain": [
       "9"
      ]
     },
     "execution_count": 10,
     "metadata": {},
     "output_type": "execute_result"
    }
   ],
   "source": [
    "area_of_square(3)"
   ]
  },
  {
   "cell_type": "markdown",
   "metadata": {
    "pycharm": {
     "name": "#%% md\n"
    }
   },
   "source": [
    "Exactly as we expect, our function told us that for an input of 3 (the length of the sides), our output is 9 (the area of the square)."
   ]
  },
  {
   "cell_type": "markdown",
   "metadata": {
    "pycharm": {
     "name": "#%% md\n"
    }
   },
   "source": [
    "Now it's your turn. Fill in the following function which determines the area of a rectangle (the target variable) from the two pieces input data: the length (l) and width (w) of its sides."
   ]
  },
  {
   "cell_type": "code",
   "execution_count": 11,
   "metadata": {
    "pycharm": {
     "name": "#%%\n"
    }
   },
   "outputs": [],
   "source": [
    "def area_of_rectangle(l,w):    # Names our function (and therefore the output) Area_Of_Rectangle,\n",
    "                                # and tells us what the input variables are - here, it's l and w.\n",
    "    return l*w                 # Defines the output of the function"
   ]
  },
  {
   "cell_type": "code",
   "execution_count": 12,
   "metadata": {
    "pycharm": {
     "name": "#%%\n"
    }
   },
   "outputs": [
    {
     "data": {
      "text/plain": [
       "8"
      ]
     },
     "execution_count": 12,
     "metadata": {},
     "output_type": "execute_result"
    }
   ],
   "source": [
    "area_of_rectangle(2,4)"
   ]
  },
  {
   "cell_type": "markdown",
   "metadata": {
    "pycharm": {
     "name": "#%% md\n"
    }
   },
   "source": [
    "Using this format, fill in the cells below to define the three functions from problem two."
   ]
  },
  {
   "cell_type": "code",
   "execution_count": 13,
   "metadata": {
    "pycharm": {
     "name": "#%%\n"
    }
   },
   "outputs": [],
   "source": [
    "def f(x):\n",
    "    return x**2     # Using ** calculates a power - so here we are taking x raised to the power of 2"
   ]
  },
  {
   "cell_type": "code",
   "execution_count": 14,
   "metadata": {
    "pycharm": {
     "name": "#%%\n"
    }
   },
   "outputs": [],
   "source": [
    "def g(x):\n",
    "    return 1.5*x + 1      # Python isn't great with fractions - it's usually best to use the exact decimal if possible.\n",
    "                          # Otherwise, Python will round (3/2) to 1.\n",
    "                          # When multiplying things together, make sure to use *"
   ]
  },
  {
   "cell_type": "code",
   "execution_count": 15,
   "metadata": {
    "pycharm": {
     "name": "#%%\n"
    }
   },
   "outputs": [],
   "source": [
    "def h(x):\n",
    "    return 2**x        # Using the command for power again"
   ]
  },
  {
   "cell_type": "code",
   "execution_count": 16,
   "metadata": {
    "pycharm": {
     "name": "#%%\n"
    }
   },
   "outputs": [
    {
     "name": "stdout",
     "output_type": "stream",
     "text": [
      "4\n",
      "4.0\n",
      "4\n"
     ]
    }
   ],
   "source": [
    "print(f(2))\n",
    "print(g(2))\n",
    "print(h(2))"
   ]
  },
  {
   "cell_type": "code",
   "execution_count": 17,
   "metadata": {
    "pycharm": {
     "name": "#%%\n"
    }
   },
   "outputs": [
    {
     "data": {
      "text/plain": [
       "2.0"
      ]
     },
     "execution_count": 17,
     "metadata": {},
     "output_type": "execute_result"
    }
   ],
   "source": [
    "h(f(g(0)))"
   ]
  },
  {
   "cell_type": "markdown",
   "metadata": {
    "pycharm": {
     "name": "#%% md\n"
    }
   },
   "source": [
    "What if we want to automate filling the table from problem 2? We could just plug in the value of x for each of the three functions and record the answer, but it would be a little bit tedious. Instead, we are going to use an *array*. An array is a list of numbers, for example: A = [1,2,3,4] is an array. \n",
    "\n",
    "In order to work with arrays, we'll also need to use numpy. We can define an array called `my_array` as follows:"
   ]
  },
  {
   "cell_type": "code",
   "execution_count": 18,
   "metadata": {
    "pycharm": {
     "name": "#%%\n"
    }
   },
   "outputs": [],
   "source": [
    "my_array = np.array([1,2,3,4])   # Make sure to use the () and [] in the correct order.\n",
    "                                 # Later, we will use multiple [] entries to create arrays with more than one column or row"
   ]
  },
  {
   "cell_type": "markdown",
   "metadata": {
    "pycharm": {
     "name": "#%% md\n"
    }
   },
   "source": [
    "We can now use this array in our functions! For example, we can find the area of the squares with length 1, 2, 3, and 4, all together."
   ]
  },
  {
   "cell_type": "code",
   "execution_count": 19,
   "metadata": {
    "pycharm": {
     "name": "#%%\n"
    }
   },
   "outputs": [
    {
     "data": {
      "text/plain": [
       "array([ 1,  4,  9, 16])"
      ]
     },
     "execution_count": 19,
     "metadata": {},
     "output_type": "execute_result"
    }
   ],
   "source": [
    "area_of_square(my_array)"
   ]
  },
  {
   "cell_type": "markdown",
   "metadata": {
    "pycharm": {
     "name": "#%% md\n"
    }
   },
   "source": [
    "Using this, create an array, called my_array2, that consists of all the values of x you want to plug in to our three functions."
   ]
  },
  {
   "cell_type": "code",
   "execution_count": 20,
   "metadata": {
    "pycharm": {
     "name": "#%%\n"
    }
   },
   "outputs": [],
   "source": [
    "my_array2 = np.array([0, 0.5, 1, 1.5, 2, 3, 4])  # Using the above syntax, we include all values from the table in the worksheet."
   ]
  },
  {
   "cell_type": "markdown",
   "metadata": {
    "pycharm": {
     "name": "#%% md\n"
    }
   },
   "source": [
    "Now plug this new array into your functions to get the same results you had before! \n",
    "\n",
    "Note that when we define functions, the name of the variable in parentheses is just a placeholder – in other words, we can define a function as *f(x)*, then ask it to give us the output for a specific input called *x0* by calculating *f(x0)* – note that we've replaced *x* with *x0* now that we want to get specific outputs."
   ]
  },
  {
   "cell_type": "code",
   "execution_count": 21,
   "metadata": {
    "pycharm": {
     "name": "#%%\n"
    }
   },
   "outputs": [
    {
     "data": {
      "text/plain": [
       "array([ 0.  ,  0.25,  1.  ,  2.25,  4.  ,  9.  , 16.  ])"
      ]
     },
     "execution_count": 21,
     "metadata": {},
     "output_type": "execute_result"
    }
   ],
   "source": [
    "f(my_array2)     # Evaluates f(x) at all the points in our array - values should match the first column of your table"
   ]
  },
  {
   "cell_type": "code",
   "execution_count": 22,
   "metadata": {
    "pycharm": {
     "name": "#%%\n"
    }
   },
   "outputs": [
    {
     "data": {
      "text/plain": [
       "array([1.  , 1.75, 2.5 , 3.25, 4.  , 5.5 , 7.  ])"
      ]
     },
     "execution_count": 22,
     "metadata": {},
     "output_type": "execute_result"
    }
   ],
   "source": [
    "g(my_array2)     # Evaluates g(x) at all the points in our array - values should match the second column of your table"
   ]
  },
  {
   "cell_type": "code",
   "execution_count": 23,
   "metadata": {
    "pycharm": {
     "name": "#%%\n"
    }
   },
   "outputs": [
    {
     "data": {
      "text/plain": [
       "array([ 1.        ,  1.41421356,  2.        ,  2.82842712,  4.        ,\n",
       "        8.        , 16.        ])"
      ]
     },
     "execution_count": 23,
     "metadata": {},
     "output_type": "execute_result"
    }
   ],
   "source": [
    "h(my_array2)     # Evaluates h(x) at all the points in our array - values should match the third column of your table"
   ]
  },
  {
   "cell_type": "markdown",
   "metadata": {
    "pycharm": {
     "name": "#%% md\n"
    }
   },
   "source": [
    "## \"Learning\""
   ]
  },
  {
   "cell_type": "markdown",
   "metadata": {
    "pycharm": {
     "name": "#%% md\n"
    }
   },
   "source": [
    "In machine learning, we work with data instead of explicit forms for the functions, as we have above. \n",
    "\n",
    "Each of the above models can be put in the form $y = f(x)$. Then if we have the inputs \n",
    "\n",
    "$$x_1 = 1, ~x_2 = 2,~ x_3 = 3,~ x_4 = 4$$\n",
    "\n",
    "we have output \n",
    "\n",
    "$$y_1 = f(x_1),~ y_2 = f(x_2),~ y_3 = f(x_3),~ y_4 = f(x_4).$$\n",
    "\n",
    "For example, using the \"Area_Of_Square\" model, we have \n",
    "\n",
    "$$(x_1,x_2,x_3,x_4) = (1,2,3,4)$$ and $$(y_1,y_2,y_3,y_4) = (1,4,9,16).$$ \n",
    "\n",
    "This information (the data) can be used to create a table,\n",
    "\n",
    "| $x$ | $y$ | \n",
    "| --- | --- |\n",
    "|  1  |  1  |\n",
    "|  2  |  4  |\n",
    "|  3  |  9  |\n",
    "|  4  |  16 |\n",
    "\n",
    "and a scatter plot. In order to create the scatter plot, we need to import some more code, this is used for plotting."
   ]
  },
  {
   "cell_type": "code",
   "execution_count": 24,
   "metadata": {
    "pycharm": {
     "name": "#%%\n"
    }
   },
   "outputs": [
    {
     "ename": "ModuleNotFoundError",
     "evalue": "No module named 'matplotlib'",
     "output_type": "error",
     "traceback": [
      "\u001b[0;31m---------------------------------------------------------------------------\u001b[0m",
      "\u001b[0;31mModuleNotFoundError\u001b[0m                       Traceback (most recent call last)",
      "\u001b[1;32m/workspace/Introduction/Intro to ML and Python completed.ipynb Cell 42\u001b[0m in \u001b[0;36m<cell line: 1>\u001b[0;34m()\u001b[0m\n\u001b[0;32m----> <a href='vscode-notebook-cell://uwstemsubml-introductio-7bo33vflqj3.ws-us53.gitpod.io/workspace/Introduction/Intro%20to%20ML%20and%20Python%20completed.ipynb#ch0000041vscode-remote?line=0'>1</a>\u001b[0m \u001b[39mimport\u001b[39;00m \u001b[39mmatplotlib\u001b[39;00m\u001b[39m.\u001b[39;00m\u001b[39mpyplot\u001b[39;00m \u001b[39mas\u001b[39;00m \u001b[39mplt\u001b[39;00m \u001b[39m# Import the code we need to make plots\u001b[39;00m\n\u001b[1;32m      <a href='vscode-notebook-cell://uwstemsubml-introductio-7bo33vflqj3.ws-us53.gitpod.io/workspace/Introduction/Intro%20to%20ML%20and%20Python%20completed.ipynb#ch0000041vscode-remote?line=1'>2</a>\u001b[0m get_ipython()\u001b[39m.\u001b[39mrun_line_magic(\u001b[39m'\u001b[39m\u001b[39mmatplotlib\u001b[39m\u001b[39m'\u001b[39m, \u001b[39m'\u001b[39m\u001b[39minline\u001b[39m\u001b[39m'\u001b[39m)\n",
      "\u001b[0;31mModuleNotFoundError\u001b[0m: No module named 'matplotlib'"
     ]
    }
   ],
   "source": [
    "import matplotlib.pyplot as plt # Import the code we need to make plots\n",
    "%matplotlib inline \n",
    "# The line above allows us to see plots."
   ]
  },
  {
   "cell_type": "markdown",
   "metadata": {
    "collapsed": false,
    "pycharm": {
     "name": "#%% md\n"
    }
   },
   "source": []
  },
  {
   "cell_type": "markdown",
   "metadata": {
    "pycharm": {
     "name": "#%% md\n"
    }
   },
   "source": [
    "We'll create a list of our inputs $x_i$, then our outputs $y_i$, where our inputs $x_i$ give the lengths and the outputs $y_i$ give us the area of a square with those lengths. Then, we plot the input lengths and the output areas!"
   ]
  },
  {
   "cell_type": "code",
   "execution_count": null,
   "metadata": {
    "pycharm": {
     "name": "#%%\n"
    }
   },
   "outputs": [
    {
     "data": {
      "text/plain": [
       "[<matplotlib.lines.Line2D at 0x7f98808d6f60>]"
      ]
     },
     "execution_count": 24,
     "metadata": {},
     "output_type": "execute_result"
    },
    {
     "data": {
      "image/png": "[encoded data removed]",
      "text/plain": [
       "<Figure size 432x288 with 1 Axes>"
      ]
     },
     "metadata": {
      "needs_background": "light"
     },
     "output_type": "display_data"
    }
   ],
   "source": [
    "xi = np.array([1,2,3,4])\n",
    "yi = Area_Of_Square(xi)\n",
    "plt.plot(xi,yi,'o')         # Plot inputs (lengths) on x axis and outputs (areas) on y axis, using circular symbols"
   ]
  },
  {
   "cell_type": "markdown",
   "metadata": {
    "pycharm": {
     "name": "#%% md\n"
    }
   },
   "source": [
    "We engineered the models that were given above. In other words, we constructed what we thought was a reasonable model. The key difference between what we've done above and \"Machine Learning\" is that in Machine Learning, we use data to try to determine the model. This step is called *learning*.\n",
    "\n",
    "Another way to say this is that in Machine Learning, you have the table\n",
    "\n",
    "| $x$ | $y$ | \n",
    "| --- | --- |\n",
    "|  1  |  1  |\n",
    "|  2  |  4  |\n",
    "|  3  |  9  |\n",
    "|  4  |  16 |\n",
    "\n",
    "\n",
    "and the goal is to *find* the function $f$ such that $y = f(x)$.\n",
    "\n",
    "The $f$ that works for the above scatter plot is $f(x) = x^2$. We can plot this to check it.\n",
    "\n",
    "In order to plot $f(x) = x^2$, we first need to define a bunch of $x$ points. We want to create a curve, so we define a bunch of points that are really close together. We can do this using numpy's \"*arange*\" function."
   ]
  },
  {
   "cell_type": "code",
   "execution_count": null,
   "metadata": {
    "pycharm": {
     "name": "#%%\n"
    }
   },
   "outputs": [],
   "source": [
    "many_points = np.arange(0,4.1,0.1)    # Generates a bunch of points between 0 and 4 that are spaced by 0.1\n",
    "                                        # e.g., the first few points will be 0, 0.1, 0.2, 0.3, ...\n",
    "    # Note that the last point is 4, not 4.1 - Python will round down with this command, which is why we give it a 'buffer' \n",
    "    # and go to 4.1 instead of 4."
   ]
  },
  {
   "cell_type": "markdown",
   "metadata": {
    "pycharm": {
     "name": "#%% md\n"
    }
   },
   "source": [
    "What did this function do? Discuss it with your friends. You can also check what a function does with the help function:"
   ]
  },
  {
   "cell_type": "code",
   "execution_count": null,
   "metadata": {
    "pycharm": {
     "name": "#%%\n"
    }
   },
   "outputs": [
    {
     "name": "stdout",
     "output_type": "stream",
     "text": [
      "Help on built-in function arange in module numpy:\n",
      "\n",
      "arange(...)\n",
      "    arange([start,] stop[, step,], dtype=None, *, like=None)\n",
      "    \n",
      "    Return evenly spaced values within a given interval.\n",
      "    \n",
      "    Values are generated within the half-open interval ``[start, stop)``\n",
      "    (in other words, the interval including `start` but excluding `stop`).\n",
      "    For integer arguments the function is equivalent to the Python built-in\n",
      "    `range` function, but returns an ndarray rather than a list.\n",
      "    \n",
      "    When using a non-integer step, such as 0.1, the results will often not\n",
      "    be consistent.  It is better to use `numpy.linspace` for these cases.\n",
      "    \n",
      "    Parameters\n",
      "    ----------\n",
      "    start : integer or real, optional\n",
      "        Start of interval.  The interval includes this value.  The default\n",
      "        start value is 0.\n",
      "    stop : integer or real\n",
      "        End of interval.  The interval does not include this value, except\n",
      "        in some cases where `step` is not an integer and floating point\n",
      "        round-off affects the length of `out`.\n",
      "    step : integer or real, optional\n",
      "        Spacing between values.  For any output `out`, this is the distance\n",
      "        between two adjacent values, ``out[i+1] - out[i]``.  The default\n",
      "        step size is 1.  If `step` is specified as a position argument,\n",
      "        `start` must also be given.\n",
      "    dtype : dtype\n",
      "        The type of the output array.  If `dtype` is not given, infer the data\n",
      "        type from the other input arguments.\n",
      "    like : array_like\n",
      "        Reference object to allow the creation of arrays which are not\n",
      "        NumPy arrays. If an array-like passed in as ``like`` supports\n",
      "        the ``__array_function__`` protocol, the result will be defined\n",
      "        by it. In this case, it ensures the creation of an array object\n",
      "        compatible with that passed in via this argument.\n",
      "    \n",
      "        .. note::\n",
      "            The ``like`` keyword is an experimental feature pending on\n",
      "            acceptance of :ref:`NEP 35 <NEP35>`.\n",
      "    \n",
      "        .. versionadded:: 1.20.0\n",
      "    \n",
      "    Returns\n",
      "    -------\n",
      "    arange : ndarray\n",
      "        Array of evenly spaced values.\n",
      "    \n",
      "        For floating point arguments, the length of the result is\n",
      "        ``ceil((stop - start)/step)``.  Because of floating point overflow,\n",
      "        this rule may result in the last element of `out` being greater\n",
      "        than `stop`.\n",
      "    \n",
      "    See Also\n",
      "    --------\n",
      "    numpy.linspace : Evenly spaced numbers with careful handling of endpoints.\n",
      "    numpy.ogrid: Arrays of evenly spaced numbers in N-dimensions.\n",
      "    numpy.mgrid: Grid-shaped arrays of evenly spaced numbers in N-dimensions.\n",
      "    \n",
      "    Examples\n",
      "    --------\n",
      "    >>> np.arange(3)\n",
      "    array([0, 1, 2])\n",
      "    >>> np.arange(3.0)\n",
      "    array([ 0.,  1.,  2.])\n",
      "    >>> np.arange(3,7)\n",
      "    array([3, 4, 5, 6])\n",
      "    >>> np.arange(3,7,2)\n",
      "    array([3, 5])\n",
      "\n"
     ]
    }
   ],
   "source": [
    "help(np.arange)"
   ]
  },
  {
   "cell_type": "markdown",
   "metadata": {
    "pycharm": {
     "name": "#%% md\n"
    }
   },
   "source": [
    "In order to make the plot, we need to also get the y-values for many_points."
   ]
  },
  {
   "cell_type": "code",
   "execution_count": null,
   "metadata": {
    "pycharm": {
     "name": "#%%\n"
    }
   },
   "outputs": [],
   "source": [
    "many_y_points = area_of_square(many_points)"
   ]
  },
  {
   "cell_type": "code",
   "execution_count": null,
   "metadata": {
    "pycharm": {
     "name": "#%%\n"
    }
   },
   "outputs": [
    {
     "data": {
      "text/plain": [
       "<matplotlib.legend.Legend at 0x7f9880fd8be0>"
      ]
     },
     "execution_count": 106,
     "metadata": {},
     "output_type": "execute_result"
    },
    {
     "data": {
      "image/png": "[encoded data removed]",
      "text/plain": [
       "<Figure size 432x288 with 1 Axes>"
      ]
     },
     "metadata": {
      "needs_background": "light"
     },
     "output_type": "display_data"
    }
   ],
   "source": [
    "plt.plot(xi,yi,'o')                        # Plot the data\n",
    "plt.plot(many_points,many_y_points,'r')    # Plot the model - many_points = input = x-axis, many_y_points = output = y-axis.\n",
    "                                            # 'r' makes the color red\n",
    "plt.legend(['data', 'f'])                # Adds a legend to the plot, where inputs are in order of what we plotted\n",
    "                                            # We plotted the data first, the model second"
   ]
  },
  {
   "cell_type": "markdown",
   "metadata": {
    "pycharm": {
     "name": "#%% md\n"
    }
   },
   "source": [
    "We see that the curve above goes through each one of our data points, so we think we have found the model $f$. "
   ]
  },
  {
   "cell_type": "markdown",
   "metadata": {
    "pycharm": {
     "name": "#%% md\n"
    }
   },
   "source": [
    "Consider the following table:\n",
    "\n",
    "| $x$ | $y$ | \n",
    "| --- | --- |\n",
    "|  -10  |  -2  |\n",
    "|  -8  |  -1  |\n",
    "|  -7  |  -0.5  |\n",
    "|  -4  |  1 |\n",
    "|  0  |  3  |\n",
    "|  1  |  3.5  |\n",
    "|  2  |  4  |\n",
    "|  4  |  5 |\n",
    "|  6  |  6  |\n",
    "\n",
    "Can you guess what function $y = f(x)$ this represents? To answer this, you may want to plot the data similar to what we did above. Once you have determined the function $f$, plot the data and the curve like you saw above."
   ]
  },
  {
   "cell_type": "markdown",
   "metadata": {
    "pycharm": {
     "name": "#%% md\n"
    }
   },
   "source": [
    "Put the data in arrays:"
   ]
  },
  {
   "cell_type": "code",
   "execution_count": null,
   "metadata": {
    "pycharm": {
     "name": "#%%\n"
    }
   },
   "outputs": [],
   "source": [
    "xs = np.array([-10, -8, -7, -4, 0, 1, 2, 4, 6])\n",
    "ys = np.array([-2, -1, -0.5, 1, 3, 3.5, 4, 5, 6])"
   ]
  },
  {
   "cell_type": "markdown",
   "metadata": {
    "pycharm": {
     "name": "#%% md\n"
    }
   },
   "source": [
    "Plot the data with circles"
   ]
  },
  {
   "cell_type": "code",
   "execution_count": null,
   "metadata": {
    "pycharm": {
     "name": "#%%\n"
    }
   },
   "outputs": [
    {
     "data": {
      "text/plain": [
       "[<matplotlib.lines.Line2D at 0x7f98a0f035c0>]"
      ]
     },
     "execution_count": 108,
     "metadata": {},
     "output_type": "execute_result"
    },
    {
     "data": {
      "image/png": "[encoded data removed]",
      "text/plain": [
       "<Figure size 432x288 with 1 Axes>"
      ]
     },
     "metadata": {
      "needs_background": "light"
     },
     "output_type": "display_data"
    }
   ],
   "source": [
    "plt.plot(xs, ys, 'o')"
   ]
  },
  {
   "cell_type": "markdown",
   "metadata": {
    "pycharm": {
     "name": "#%% md\n"
    }
   },
   "source": [
    "Now we have to come up with the function on our own (not using Python). We'll guess that the equation will be $y = ax + b$, as this data looks very linear. Specifically, we guess that the line is $y = 0.5x + 3$.\n",
    "\n",
    "How did we get this line? By calculating the slope and y-intercept directly from the data. That is, I chose the two points (0, 3) and (1, 3.5), and calculated the slope as $$a = \\frac{3.5-3}{1-0} = 0.5.$$ We can get the y-intercept directly from the point (0, 3), as the y-intercept is the value of y when x = 0. Thus, we have our slope $a = 0.5$ and y-intercept $b = 3,$ and can plug those into the general equation for a line!\n",
    "\n",
    "Now we'd like to plot that line on top of the data to see if it actually matches – let's do this below."
   ]
  },
  {
   "cell_type": "markdown",
   "metadata": {
    "pycharm": {
     "name": "#%% md\n"
    }
   },
   "source": [
    "Create a bunch of values to evaluate the function at. To plot this on top of our data, the values we come up with should match the x-range of our data, so we want the values to run between -10 and 6:"
   ]
  },
  {
   "cell_type": "code",
   "execution_count": null,
   "metadata": {
    "pycharm": {
     "name": "#%%\n"
    }
   },
   "outputs": [],
   "source": [
    "x_points = np.arange(-10,6.1,0.1) #Creates closely spaced x points in our range of data \n",
    "# Give a 'buffer' on the right, so our range of points runs all the way to 6."
   ]
  },
  {
   "cell_type": "markdown",
   "metadata": {
    "pycharm": {
     "name": "#%% md\n"
    }
   },
   "source": [
    "Now define the model/function that we found so we can then get out our y-points:"
   ]
  },
  {
   "cell_type": "code",
   "execution_count": null,
   "metadata": {
    "pycharm": {
     "name": "#%%\n"
    }
   },
   "outputs": [],
   "source": [
    "def new_line(x):\n",
    "    return 0.5*x + 3 #Defines the model/function we found for the data"
   ]
  },
  {
   "cell_type": "code",
   "execution_count": null,
   "metadata": {
    "pycharm": {
     "name": "#%%\n"
    }
   },
   "outputs": [],
   "source": [
    "y_points = new_line(x_points) #Calculates the output y points for the x points we created above"
   ]
  },
  {
   "cell_type": "markdown",
   "metadata": {
    "pycharm": {
     "name": "#%% md\n"
    }
   },
   "source": [
    "Now, plot the data and the function!"
   ]
  },
  {
   "cell_type": "code",
   "execution_count": null,
   "metadata": {
    "pycharm": {
     "name": "#%%\n"
    },
    "scrolled": true
   },
   "outputs": [
    {
     "data": {
      "text/plain": [
       "<matplotlib.legend.Legend at 0x7f98a0f32da0>"
      ]
     },
     "execution_count": 112,
     "metadata": {},
     "output_type": "execute_result"
    },
    {
     "data": {
      "image/png": "[encoded data removed]",
      "text/plain": [
       "<Figure size 432x288 with 1 Axes>"
      ]
     },
     "metadata": {
      "needs_background": "light"
     },
     "output_type": "display_data"
    }
   ],
   "source": [
    "plt.plot(xs, ys, 'o')  #Plot the data as circular points\n",
    "plt.plot(x_points, y_points,'r') #Plot the function/model/line, 'r' makes the color red. \n",
    "#We are plotting x_points on the x-axis, and the function evaluated at the x_points, whose points are given by\n",
    "#y_points, on the y-axis.\n",
    "plt.legend(['data', 'function']) #Add a legend to show which is the data and which is the model"
   ]
  },
  {
   "cell_type": "markdown",
   "metadata": {
    "pycharm": {
     "name": "#%% md\n"
    }
   },
   "source": [
    "We see that the function we found, $f$, does indeed 'match' the data very well – that is, the line for the function goes through all our data points.\n",
    "\n",
    "In general, our data will not fit a perfect curve, and so our found function won't go precisely through all the datapoints, but that's a big part of machine learning – finding the function that is closest to our data."
   ]
  },
  {
   "cell_type": "markdown",
   "metadata": {
    "pycharm": {
     "name": "#%% md\n"
    }
   },
   "source": [
    "What if there was a function that could do this for us?\n",
    "\n",
    "If you have taken a statistics course, you might remember the concept of linear regression.\n",
    "Linear regression will give us the slope and the intercept directly from out data!\n",
    "\n",
    "Both the scipy and scikit-learn libraries have this capability. Let's try it with scipy.\n",
    "\n",
    "The first thing we need to do is import the *\"stats\"* module from *\"scipy\"*:"
   ]
  },
  {
   "cell_type": "code",
   "execution_count": null,
   "metadata": {
    "pycharm": {
     "name": "#%%\n"
    }
   },
   "outputs": [],
   "source": [
    "from scipy import stats"
   ]
  },
  {
   "cell_type": "markdown",
   "metadata": {
    "collapsed": false,
    "pycharm": {
     "name": "#%% md\n"
    }
   },
   "source": [
    "Now, we can use the linear regression function called \"linregress\" from the stats module.\n",
    "\n",
    "We can do this is the same way we called \"np.arrange\" buy using a \".\" after the module name to select on of the modules functions.\n",
    "\n",
    "This function has two parameters, the x values and they y values.\n",
    "When there are multiple parameters, we separate them with comas in the function call."
   ]
  },
  {
   "cell_type": "code",
   "execution_count": 25,
   "metadata": {
    "pycharm": {
     "name": "#%%\n"
    }
   },
   "outputs": [
    {
     "ename": "NameError",
     "evalue": "name 'stats' is not defined",
     "output_type": "error",
     "traceback": [
      "\u001b[0;31m---------------------------------------------------------------------------\u001b[0m",
      "\u001b[0;31mNameError\u001b[0m                                 Traceback (most recent call last)",
      "\u001b[1;32m/workspace/Introduction/Intro to ML and Python completed.ipynb Cell 71\u001b[0m in \u001b[0;36m<cell line: 1>\u001b[0;34m()\u001b[0m\n\u001b[0;32m----> <a href='vscode-notebook-cell://uwstemsubml-introductio-7bo33vflqj3.ws-us53.gitpod.io/workspace/Introduction/Intro%20to%20ML%20and%20Python%20completed.ipynb#ch0000070vscode-remote?line=0'>1</a>\u001b[0m stats\u001b[39m.\u001b[39mlinregress(xs, ys)\n",
      "\u001b[0;31mNameError\u001b[0m: name 'stats' is not defined"
     ]
    }
   ],
   "source": [
    "stats.linregress(xs, ys)"
   ]
  },
  {
   "cell_type": "markdown",
   "metadata": {
    "collapsed": false,
    "pycharm": {
     "name": "#%% md\n"
    }
   },
   "source": [
    "This tells us what we knew before:\n",
    "* Slope = 0.5\n",
    "* Intercept = 3.0\n",
    "\n",
    "But what if this was a real life data set and we could not calculate the slope and intercept using the formulas from before?\n",
    "\n",
    "Let's add some noise to our data using the numpy random normal distribution function using a $\\mu$ of 1, a $\\sigma$ of 0.5, and a length of 9:"
   ]
  },
  {
   "cell_type": "code",
   "execution_count": null,
   "metadata": {
    "pycharm": {
     "name": "#%%\n"
    }
   },
   "outputs": [],
   "source": [
    "noise = np.random.normal(1, 0.5, 9)"
   ]
  },
  {
   "cell_type": "markdown",
   "metadata": {
    "collapsed": false,
    "pycharm": {
     "name": "#%% md\n"
    }
   },
   "source": [
    "Adding this array to our original ys array will give us a new noisy array:"
   ]
  },
  {
   "cell_type": "code",
   "execution_count": 26,
   "metadata": {
    "collapsed": false,
    "pycharm": {
     "name": "#%%\n"
    }
   },
   "outputs": [
    {
     "ename": "NameError",
     "evalue": "name 'ys' is not defined",
     "output_type": "error",
     "traceback": [
      "\u001b[0;31m---------------------------------------------------------------------------\u001b[0m",
      "\u001b[0;31mNameError\u001b[0m                                 Traceback (most recent call last)",
      "\u001b[1;32m/workspace/Introduction/Intro to ML and Python completed.ipynb Cell 75\u001b[0m in \u001b[0;36m<cell line: 1>\u001b[0;34m()\u001b[0m\n\u001b[0;32m----> <a href='vscode-notebook-cell://uwstemsubml-introductio-7bo33vflqj3.ws-us53.gitpod.io/workspace/Introduction/Intro%20to%20ML%20and%20Python%20completed.ipynb#ch0000074vscode-remote?line=0'>1</a>\u001b[0m y_new\u001b[39m=\u001b[39m ys \u001b[39m+\u001b[39m noise\n",
      "\u001b[0;31mNameError\u001b[0m: name 'ys' is not defined"
     ]
    }
   ],
   "source": [
    "y_new= ys + noise"
   ]
  },
  {
   "cell_type": "markdown",
   "metadata": {
    "collapsed": false,
    "pycharm": {
     "name": "#%% md\n"
    }
   },
   "source": [
    "Now let's plot it:"
   ]
  },
  {
   "cell_type": "code",
   "execution_count": null,
   "metadata": {
    "collapsed": false,
    "pycharm": {
     "name": "#%%\n"
    }
   },
   "outputs": [
    {
     "data": {
      "text/plain": [
       "<matplotlib.collections.PathCollection at 0x7f9879ad4c50>"
      ]
     },
     "execution_count": 123,
     "metadata": {},
     "output_type": "execute_result"
    },
    {
     "data": {
      "image/png": "[encoded data removed]",
      "text/plain": [
       "<Figure size 432x288 with 1 Axes>"
      ]
     },
     "metadata": {
      "needs_background": "light"
     },
     "output_type": "display_data"
    }
   ],
   "source": [
    "plt.scatter(xs, y_new)"
   ]
  },
  {
   "cell_type": "markdown",
   "metadata": {
    "collapsed": false,
    "pycharm": {
     "name": "#%% md\n"
    }
   },
   "source": [
    "We can see that it is no longer a simple system where all the points will lie directly on the line. So what is the best function to represent this data? Let's try the old line again first:"
   ]
  },
  {
   "cell_type": "code",
   "execution_count": null,
   "metadata": {
    "collapsed": false,
    "pycharm": {
     "name": "#%%\n"
    }
   },
   "outputs": [
    {
     "data": {
      "text/plain": [
       "[<matplotlib.lines.Line2D at 0x7f98a1073da0>]"
      ]
     },
     "execution_count": 124,
     "metadata": {},
     "output_type": "execute_result"
    },
    {
     "data": {
      "image/png": "[encoded data removed]",
      "text/plain": [
       "<Figure size 432x288 with 1 Axes>"
      ]
     },
     "metadata": {
      "needs_background": "light"
     },
     "output_type": "display_data"
    }
   ],
   "source": [
    "plt.scatter(xs, y_new)\n",
    "plt.plot(x_points, y_points)"
   ]
  },
  {
   "cell_type": "markdown",
   "metadata": {
    "collapsed": false,
    "pycharm": {
     "name": "#%% md\n"
    }
   },
   "source": [
    "The old line looks like a bad fit now. What if we try our previous equations:"
   ]
  },
  {
   "cell_type": "code",
   "execution_count": 27,
   "metadata": {
    "collapsed": false,
    "pycharm": {
     "name": "#%%\n"
    }
   },
   "outputs": [
    {
     "ename": "NameError",
     "evalue": "name 'y_new' is not defined",
     "output_type": "error",
     "traceback": [
      "\u001b[0;31m---------------------------------------------------------------------------\u001b[0m",
      "\u001b[0;31mNameError\u001b[0m                                 Traceback (most recent call last)",
      "\u001b[1;32m/workspace/Introduction/Intro to ML and Python completed.ipynb Cell 81\u001b[0m in \u001b[0;36m<cell line: 1>\u001b[0;34m()\u001b[0m\n\u001b[0;32m----> <a href='vscode-notebook-cell://uwstemsubml-introductio-7bo33vflqj3.ws-us53.gitpod.io/workspace/Introduction/Intro%20to%20ML%20and%20Python%20completed.ipynb#ch0000080vscode-remote?line=0'>1</a>\u001b[0m new_slope \u001b[39m=\u001b[39m (y_new[\u001b[39m1\u001b[39m] \u001b[39m-\u001b[39m y_new[\u001b[39m0\u001b[39m])\u001b[39m/\u001b[39m(xs[\u001b[39m1\u001b[39m] \u001b[39m-\u001b[39m xs[\u001b[39m0\u001b[39m])\n\u001b[1;32m      <a href='vscode-notebook-cell://uwstemsubml-introductio-7bo33vflqj3.ws-us53.gitpod.io/workspace/Introduction/Intro%20to%20ML%20and%20Python%20completed.ipynb#ch0000080vscode-remote?line=1'>2</a>\u001b[0m new_intercept \u001b[39m=\u001b[39m y_new[\u001b[39m0\u001b[39m] \u001b[39m-\u001b[39m new_slope \u001b[39m*\u001b[39m xs[\u001b[39m0\u001b[39m]\n\u001b[1;32m      <a href='vscode-notebook-cell://uwstemsubml-introductio-7bo33vflqj3.ws-us53.gitpod.io/workspace/Introduction/Intro%20to%20ML%20and%20Python%20completed.ipynb#ch0000080vscode-remote?line=3'>4</a>\u001b[0m \u001b[39mprint\u001b[39m(\u001b[39m\"\u001b[39m\u001b[39mNew slope: \u001b[39m\u001b[39m\"\u001b[39m, new_slope, \u001b[39m\"\u001b[39m\u001b[39m\\n\u001b[39;00m\u001b[39mNew intercept: \u001b[39m\u001b[39m\"\u001b[39m, new_intercept)\n",
      "\u001b[0;31mNameError\u001b[0m: name 'y_new' is not defined"
     ]
    }
   ],
   "source": [
    "new_slope = (y_new[1] - y_new[0])/(xs[1] - xs[0])\n",
    "new_intercept = y_new[0] - new_slope * xs[0]\n",
    "\n",
    "print(\"New slope: \", new_slope, \"\\nNew intercept: \", new_intercept)"
   ]
  },
  {
   "cell_type": "markdown",
   "metadata": {
    "collapsed": false,
    "pycharm": {
     "name": "#%% md\n"
    }
   },
   "source": [
    "These numbers look different, so maybe this line will fit better. Let's go ahead and make this line and plot it with our data:'"
   ]
  },
  {
   "cell_type": "code",
   "execution_count": null,
   "metadata": {
    "collapsed": false,
    "pycharm": {
     "name": "#%%\n"
    }
   },
   "outputs": [
    {
     "data": {
      "text/plain": [
       "[<matplotlib.lines.Line2D at 0x7f98a10c9b00>]"
      ]
     },
     "execution_count": 128,
     "metadata": {},
     "output_type": "execute_result"
    },
    {
     "data": {
      "image/png": "[encoded data removed]",
      "text/plain": [
       "<Figure size 432x288 with 1 Axes>"
      ]
     },
     "metadata": {
      "needs_background": "light"
     },
     "output_type": "display_data"
    }
   ],
   "source": [
    "new_y_line = new_slope*x_points + new_intercept\n",
    "\n",
    "plt.scatter(xs, y_new)\n",
    "plt.plot(x_points, new_y_line)"
   ]
  },
  {
   "cell_type": "markdown",
   "metadata": {
    "collapsed": false,
    "pycharm": {
     "name": "#%% md\n"
    }
   },
   "source": [
    "This line is a better fit, but still not a good one! Let's try our linear regression method:"
   ]
  },
  {
   "cell_type": "code",
   "execution_count": 28,
   "metadata": {
    "collapsed": false,
    "pycharm": {
     "name": "#%%\n"
    }
   },
   "outputs": [
    {
     "ename": "NameError",
     "evalue": "name 'stats' is not defined",
     "output_type": "error",
     "traceback": [
      "\u001b[0;31m---------------------------------------------------------------------------\u001b[0m",
      "\u001b[0;31mNameError\u001b[0m                                 Traceback (most recent call last)",
      "\u001b[1;32m/workspace/Introduction/Intro to ML and Python completed.ipynb Cell 85\u001b[0m in \u001b[0;36m<cell line: 1>\u001b[0;34m()\u001b[0m\n\u001b[0;32m----> <a href='vscode-notebook-cell://uwstemsubml-introductio-7bo33vflqj3.ws-us53.gitpod.io/workspace/Introduction/Intro%20to%20ML%20and%20Python%20completed.ipynb#ch0000084vscode-remote?line=0'>1</a>\u001b[0m new_stats \u001b[39m=\u001b[39m stats\u001b[39m.\u001b[39mlinregress(xs, y_new)\n\u001b[1;32m      <a href='vscode-notebook-cell://uwstemsubml-introductio-7bo33vflqj3.ws-us53.gitpod.io/workspace/Introduction/Intro%20to%20ML%20and%20Python%20completed.ipynb#ch0000084vscode-remote?line=1'>2</a>\u001b[0m \u001b[39mprint\u001b[39m(new_stats)\n\u001b[1;32m      <a href='vscode-notebook-cell://uwstemsubml-introductio-7bo33vflqj3.ws-us53.gitpod.io/workspace/Introduction/Intro%20to%20ML%20and%20Python%20completed.ipynb#ch0000084vscode-remote?line=2'>3</a>\u001b[0m slope \u001b[39m=\u001b[39m new_stats[\u001b[39m0\u001b[39m]\n",
      "\u001b[0;31mNameError\u001b[0m: name 'stats' is not defined"
     ]
    }
   ],
   "source": [
    "new_stats = stats.linregress(xs, y_new)\n",
    "print(new_stats)\n",
    "slope = new_stats[0]\n",
    "y_int = new_stats[1]"
   ]
  },
  {
   "cell_type": "markdown",
   "metadata": {
    "collapsed": false,
    "pycharm": {
     "name": "#%% md\n"
    }
   },
   "source": [
    "These numbers look promising, so let's plot them:"
   ]
  },
  {
   "cell_type": "code",
   "execution_count": null,
   "metadata": {
    "collapsed": false,
    "pycharm": {
     "name": "#%%\n"
    }
   },
   "outputs": [],
   "source": [
    "y_points_new = slope * x_points + y_int"
   ]
  },
  {
   "cell_type": "code",
   "execution_count": null,
   "metadata": {
    "collapsed": false,
    "pycharm": {
     "name": "#%%\n"
    }
   },
   "outputs": [
    {
     "data": {
      "text/plain": [
       "[<matplotlib.lines.Line2D at 0x7f989113d940>]"
      ]
     },
     "execution_count": 132,
     "metadata": {},
     "output_type": "execute_result"
    },
    {
     "data": {
      "image/png": "[encoded data removed]",
      "text/plain": [
       "<Figure size 432x288 with 1 Axes>"
      ]
     },
     "metadata": {
      "needs_background": "light"
     },
     "output_type": "display_data"
    }
   ],
   "source": [
    "plt.scatter(xs, y_new)\n",
    "plt.plot(x_points, y_points)\n",
    "plt.plot(x_points, new_y_line)\n",
    "plt.plot(x_points, y_points_new)"
   ]
  },
  {
   "cell_type": "markdown",
   "metadata": {
    "collapsed": false,
    "pycharm": {
     "name": "#%% md\n"
    }
   },
   "source": [
    "We can see that our line from the linear regression is the best fit for this data set."
   ]
  },
  {
   "cell_type": "code",
   "execution_count": null,
   "metadata": {
    "collapsed": false,
    "pycharm": {
     "name": "#%%\n"
    }
   },
   "outputs": [],
   "source": []
  },
  {
   "cell_type": "code",
   "execution_count": null,
   "metadata": {},
   "outputs": [],
   "source": []
  },
  {
   "cell_type": "code",
   "execution_count": null,
   "metadata": {},
   "outputs": [],
   "source": []
  },
  {
   "cell_type": "code",
   "execution_count": null,
   "metadata": {},
   "outputs": [],
   "source": []
  },
  {
   "cell_type": "code",
   "execution_count": null,
   "metadata": {},
   "outputs": [],
   "source": []
  },
  {
   "cell_type": "code",
   "execution_count": null,
   "metadata": {},
   "outputs": [],
   "source": []
  },
  {
   "cell_type": "code",
   "execution_count": null,
   "metadata": {},
   "outputs": [],
   "source": []
  },
  {
   "cell_type": "code",
   "execution_count": null,
   "metadata": {},
   "outputs": [],
   "source": []
  },
  {
   "cell_type": "code",
   "execution_count": null,
   "metadata": {},
   "outputs": [],
   "source": []
  },
  {
   "cell_type": "code",
   "execution_count": null,
   "metadata": {},
   "outputs": [],
   "source": []
  },
  {
   "cell_type": "code",
   "execution_count": null,
   "metadata": {},
   "outputs": [],
   "source": []
  },
  {
   "cell_type": "code",
   "execution_count": null,
   "metadata": {},
   "outputs": [],
   "source": []
  },
  {
   "cell_type": "code",
   "execution_count": null,
   "metadata": {},
   "outputs": [],
   "source": []
  },
  {
   "cell_type": "code",
   "execution_count": null,
   "metadata": {},
   "outputs": [],
   "source": []
  }
 ],
 "metadata": {
  "kernelspec": {
   "display_name": "Python 3.8.13 64-bit ('3.8.13')",
   "language": "python",
   "name": "python3"
  },
  "language_info": {
   "codemirror_mode": {
    "name": "ipython",
    "version": 3
   },
   "file_extension": ".py",
   "mimetype": "text/x-python",
   "name": "python",
   "nbconvert_exporter": "python",
   "pygments_lexer": "ipython3",
   "version": "3.8.13"
  },
  "vscode": {
   "interpreter": {
    "hash": "110cc1dee26208153f2972f08a2ad52b6a56238dc66d48e87fb757ef2996db56"
   }
  }
 },
 "nbformat": 4,
 "nbformat_minor": 1
}
